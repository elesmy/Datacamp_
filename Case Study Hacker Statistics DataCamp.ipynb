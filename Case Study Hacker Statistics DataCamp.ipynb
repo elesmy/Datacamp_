{
 "cells": [
  {
   "cell_type": "markdown",
   "id": "8b623a47",
   "metadata": {},
   "source": [
    "# Case Study Hacker Statistics\n",
    "\n",
    "\n",
    "* Notebook Author: Elesmy Orellana \n",
    "* This Project is Provided/Owned by: DataCamp \n",
    "* This notebook was created as a reproducible reference.\n",
    "* The material is from the DataCamp course. \n",
    "* If you find the content beneficial, consider a DataCamp Subscription.\n",
    "\n",
    "\n",
    "In this section we will implement an algorithm that will emulate the following game : You do a bet with your friend that if you start at the first step of the empire state building and that on each step you roll a dice\n",
    "\n",
    "* If you roll 1 or 2 you descend one step\n",
    "* If you roll 3 or 4 or 5 you go up one step\n",
    "* If you roll a 6 you roll again and you go up this new number of steps\n",
    "* on each roll you have 0.1% of falling down the stairs\n",
    "\n",
    "\n",
    "Let’s check how much chance we have of betting that we will reach step 60\n",
    "\n",
    "First some tools that we need to create the algorythm\n",
    "\n",
    "So to randomize numbers in order to emulate a coin toss or a dice roll :"
   ]
  },
  {
   "cell_type": "markdown",
   "id": "1dd458cc",
   "metadata": {},
   "source": [
    "To generate random numbers:\n",
    "\n",
    "\n",
    "* np.random.seed(123) same seed will generate the same set of random numbers and ensures reproducibility\n",
    "* np.random.rand() this will generate random numbers from 0 to 1\n",
    "* np.random.randint(0, 2) this will randomly generate 0 or 1, since 2 will not be included"
   ]
  },
  {
   "cell_type": "code",
   "execution_count": 9,
   "id": "fa26dc0c",
   "metadata": {},
   "outputs": [
    {
     "data": {
      "text/plain": [
       "0.0014611175987575553"
      ]
     },
     "execution_count": 9,
     "metadata": {},
     "output_type": "execute_result"
    }
   ],
   "source": [
    "import numpy as np\n",
    "import matplotlib as plt\n",
    "np.random.rand()\n",
    "#Emulates a number between 0 and 1 "
   ]
  },
  {
   "cell_type": "code",
   "execution_count": 10,
   "id": "8e48075b",
   "metadata": {},
   "outputs": [
    {
     "name": "stdout",
     "output_type": "stream",
     "text": [
      "0\n"
     ]
    }
   ],
   "source": [
    "np.random.seed(123)\n",
    "#if you put a seed you will generate the same sequence of random\n",
    "#numbers, this permits reproducibility of your scenarios \n",
    " \n",
    "#Coin toss, take a random int between 0 and 2 (exclusive) : \n",
    "coin = np.random.randint(0,2)\n",
    "print(coin)"
   ]
  },
  {
   "cell_type": "code",
   "execution_count": 11,
   "id": "30390c86",
   "metadata": {},
   "outputs": [
    {
     "name": "stdout",
     "output_type": "stream",
     "text": [
      "1\n",
      "tails\n"
     ]
    }
   ],
   "source": [
    "coin = np.random.randint(0,2)\n",
    "print(coin)\n",
    "if coin == 0:\n",
    "    print(\"heads\")\n",
    "else:\n",
    "    print(\"tails\")"
   ]
  },
  {
   "cell_type": "code",
   "execution_count": 12,
   "id": "80a9b1d7",
   "metadata": {},
   "outputs": [],
   "source": [
    "#Dice roll \n",
    "dice=np.random.randint(1,7)"
   ]
  },
  {
   "cell_type": "markdown",
   "id": "3482bfcd",
   "metadata": {},
   "source": [
    "### What is a Random Walk ?\n",
    "\n",
    " A random walk is a mathematical object, known as a stochastic or random process, that describes a path that consists of a succession of random steps on some mathematical space such as the integers. An elementary example of a random walk is the random walk on  the  integer number line, Z,  which starts at 0 and at each step moves +1 or −1 with equal probability. Other examples include the path traced by a molecule as it travels in a liquid or a gas, the search path of a foraging animal, the price of a fluctuating stock and the financial status of a gambler: all can be approximated by random walk models, even though they may not be truly random in reality.  "
   ]
  },
  {
   "cell_type": "markdown",
   "id": "ef6a1ad0",
   "metadata": {},
   "source": [
    "Heads or tails random walk"
   ]
  },
  {
   "cell_type": "markdown",
   "id": "3309f35c",
   "metadata": {},
   "source": [
    "## Simulate Random Walk"
   ]
  },
  {
   "cell_type": "code",
   "execution_count": 13,
   "id": "60ec5d11",
   "metadata": {},
   "outputs": [
    {
     "name": "stdout",
     "output_type": "stream",
     "text": [
      "['heads', 'heads', 'heads', 'heads', 'heads', 'heads', 'heads', 'tails']\n"
     ]
    }
   ],
   "source": [
    "import numpy as np\n",
    "np.random.seed(123)\n",
    "outcomes = []\n",
    "\n",
    "for x in range(10) :\n",
    "    coin = np.random.randint(0, 2)\n",
    "    if coin == 0 :\n",
    "        outcomes.append(\"heads\")\n",
    "else :\n",
    "    outcomes.append(\"tails\")\n",
    "print(outcomes)"
   ]
  },
  {
   "cell_type": "code",
   "execution_count": 14,
   "id": "1bbddf88",
   "metadata": {},
   "outputs": [
    {
     "name": "stdout",
     "output_type": "stream",
     "text": [
      "[0, 0, 1, 1, 1, 1, 1, 1, 2, 3, 3]\n"
     ]
    }
   ],
   "source": [
    "np.random.seed(123)\n",
    "tails = [0]\n",
    "for x in range(10) :\n",
    "    coin = np.random.randint(0, 2)\n",
    "    tails.append(tails[x] + coin)\n",
    "print(tails)"
   ]
  },
  {
   "cell_type": "markdown",
   "id": "6e0dff29",
   "metadata": {},
   "source": [
    "So in the first step we just save the result of the toss. In the second one whe will count the number of times we had a tails during the run.\n",
    "\n",
    "Now, if we want to visualize the result of tossing 10000 times 10 times the coin and see what would be the distribution of the result (how many times did we score 3 times tails, 5 times tails and so on..)\n",
    "\n",
    "\n",
    "\n",
    "## This is the Result: \n",
    "\n",
    "\n",
    "Visualize the random walk"
   ]
  },
  {
   "cell_type": "code",
   "execution_count": 15,
   "id": "e112498e",
   "metadata": {},
   "outputs": [
    {
     "data": {
      "image/png": "[encoded data removed]",
      "text/plain": [
       "<Figure size 432x288 with 1 Axes>"
      ]
     },
     "metadata": {
      "needs_background": "light"
     },
     "output_type": "display_data"
    }
   ],
   "source": [
    "import numpy as np\n",
    "import matplotlib.pyplot as plt\n",
    "\n",
    "np.random.seed(123)\n",
    "final_tails = []\n",
    "\n",
    "for x in range(10000) :\n",
    "    tails = [0]\n",
    "    for x in range(10) :\n",
    "        coin = np.random.randint(0,2)\n",
    "        tails.append(tails[x] + coin)\n",
    "    final_tails.append(tails[-1])\n",
    "    \n",
    "plt.hist(final_tails, bins = 10)\n",
    "plt.show()"
   ]
  },
  {
   "cell_type": "markdown",
   "id": "ab4785f4",
   "metadata": {},
   "source": [
    "Which is quite logical, as it is pretty much 50% chance.. so we have high chance of score 5 tails out of 10 tosses.\n",
    "\n",
    "So… now we have all the tools to emulate our game :"
   ]
  },
  {
   "cell_type": "markdown",
   "id": "7228dc62",
   "metadata": {},
   "source": [
    "Distribution\n",
    "What is the chance that you can reach 60 steps after throwing the dice for 100 times?\n",
    "\n",
    "* Each random walk has an end point\n",
    "* Simulate this walk 10,000 times, then you get 10,000 end points: Distribution\n",
    "* Calculate the chances\n",
    "\n",
    "Create a list that contains the path of 10 random walks and visualize it"
   ]
  },
  {
   "cell_type": "code",
   "execution_count": 16,
   "id": "b96f3ee8",
   "metadata": {},
   "outputs": [],
   "source": [
    "# numpy and matplotlib imported, seed set\n",
    "\n",
    "# Simulate random walk 500 times\n",
    "all_walks = []\n",
    "for i in range(500) :\n",
    "    random_walk = [0]\n",
    "    for x in range(100) :\n",
    "        step = random_walk[-1]\n",
    "        dice = np.random.randint(1,7)\n",
    "        if dice <= 2:\n",
    "            step = max(0, step - 1)\n",
    "        elif dice <= 5:\n",
    "            step = step + 1\n",
    "        else:\n",
    "            step = step + np.random.randint(1,7)\n",
    "        if np.random.rand() <= 0.001 :\n",
    "            step = 0\n",
    "        random_walk.append(step)\n",
    "    all_walks.append(random_walk)"
   ]
  },
  {
   "cell_type": "code",
   "execution_count": 17,
   "id": "51a2c0ee",
   "metadata": {},
   "outputs": [
    {
     "data": {
      "image/png": "[encoded data removed]",
      "text/plain": [
       "<Figure size 432x288 with 1 Axes>"
      ]
     },
     "metadata": {
      "needs_background": "light"
     },
     "output_type": "display_data"
    }
   ],
   "source": [
    "# Create and plot np_aw_t\n",
    "np_aw_t = np.transpose(np.array(all_walks))\n",
    "\n",
    "\n",
    "# Select last row from np_aw_t: ends\n",
    "ends = np_aw_t[-1,:]\n",
    "\n",
    "# Plot histogram of ends, display plot\n",
    "plt.hist(ends)\n",
    "plt.show()"
   ]
  },
  {
   "cell_type": "markdown",
   "id": "cd0810af",
   "metadata": {},
   "source": [
    "The Numpy array ends contains 500 integers. Each integer represents the end point of a random walk. To calculate the chance that this end point is greater than or equal to 60, you can count the number of integers in ends that are greater than or equal to 60 and divide that number by 500, the total number of simulations.\n",
    "\n",
    "The chance to win our bet is 78.4%"
   ]
  },
  {
   "cell_type": "code",
   "execution_count": null,
   "id": "d3387745",
   "metadata": {},
   "outputs": [],
   "source": []
  }
 ],
 "metadata": {
  "kernelspec": {
   "display_name": "Python 3",
   "language": "python",
   "name": "python3"
  },
  "language_info": {
   "codemirror_mode": {
    "name": "ipython",
    "version": 3
   },
   "file_extension": ".py",
   "mimetype": "text/x-python",
   "name": "python",
   "nbconvert_exporter": "python",
   "pygments_lexer": "ipython3",
   "version": "3.8.8"
  }
 },
 "nbformat": 4,
 "nbformat_minor": 5
}
