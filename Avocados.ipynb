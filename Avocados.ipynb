{
 "cells": [
  {
   "cell_type": "markdown",
   "id": "994b1fdf-95a8-4717-880c-941aa9e480ec",
   "metadata": {},
   "source": [
    "# Avocado\n",
    "\n",
    "Which avocado size is most popular?\n",
    "\n",
    "Avocados are increasingly popular and delicious in guacamole and on toast. The Hass Avocado Board keeps track of avocado supply and demand across the USA, including the sales of three different sizes of avocado. This project will use a bar plot to figure out which size is the most popular.\n",
    "\n",
    "Bar plots are great for revealing relationships between categorical (size) and numeric (number sold) variables, but manipulation on the data first is needed in order to get the numbers needed for plotting."
   ]
  },
  {
   "cell_type": "code",
   "execution_count": 1,
   "id": "f58e3c85-5d6d-4199-a57e-74e5d23bc705",
   "metadata": {},
   "outputs": [],
   "source": [
    "import pandas as pd\n",
    "from matplotlib import pyplot as plt\n",
    "import seaborn as sns\n",
    "%matplotlib inline"
   ]
  },
  {
   "cell_type": "code",
   "execution_count": 36,
   "id": "cb7fdfc7-6a3f-4656-b9b8-118507feb040",
   "metadata": {},
   "outputs": [
    {
     "data": {
      "text/html": [
       "<div>\n",
       "<style scoped>\n",
       "    .dataframe tbody tr th:only-of-type {\n",
       "        vertical-align: middle;\n",
       "    }\n",
       "\n",
       "    .dataframe tbody tr th {\n",
       "        vertical-align: top;\n",
       "    }\n",
       "\n",
       "    .dataframe thead th {\n",
       "        text-align: right;\n",
       "    }\n",
       "</style>\n",
       "<table border=\"1\" class=\"dataframe\">\n",
       "  <thead>\n",
       "    <tr style=\"text-align: right;\">\n",
       "      <th></th>\n",
       "      <th>date</th>\n",
       "      <th>type</th>\n",
       "      <th>year</th>\n",
       "      <th>avg_price</th>\n",
       "      <th>size</th>\n",
       "      <th>nb_sold</th>\n",
       "    </tr>\n",
       "  </thead>\n",
       "  <tbody>\n",
       "    <tr>\n",
       "      <th>0</th>\n",
       "      <td>2015-12-27</td>\n",
       "      <td>conventional</td>\n",
       "      <td>2015</td>\n",
       "      <td>0.95</td>\n",
       "      <td>small</td>\n",
       "      <td>9626901.09</td>\n",
       "    </tr>\n",
       "    <tr>\n",
       "      <th>1</th>\n",
       "      <td>2015-12-20</td>\n",
       "      <td>conventional</td>\n",
       "      <td>2015</td>\n",
       "      <td>0.98</td>\n",
       "      <td>small</td>\n",
       "      <td>8710021.76</td>\n",
       "    </tr>\n",
       "    <tr>\n",
       "      <th>2</th>\n",
       "      <td>2015-12-13</td>\n",
       "      <td>conventional</td>\n",
       "      <td>2015</td>\n",
       "      <td>0.93</td>\n",
       "      <td>small</td>\n",
       "      <td>9855053.66</td>\n",
       "    </tr>\n",
       "    <tr>\n",
       "      <th>3</th>\n",
       "      <td>2015-12-06</td>\n",
       "      <td>conventional</td>\n",
       "      <td>2015</td>\n",
       "      <td>0.89</td>\n",
       "      <td>small</td>\n",
       "      <td>9405464.36</td>\n",
       "    </tr>\n",
       "    <tr>\n",
       "      <th>4</th>\n",
       "      <td>2015-11-29</td>\n",
       "      <td>conventional</td>\n",
       "      <td>2015</td>\n",
       "      <td>0.99</td>\n",
       "      <td>small</td>\n",
       "      <td>8094803.56</td>\n",
       "    </tr>\n",
       "  </tbody>\n",
       "</table>\n",
       "</div>"
      ],
      "text/plain": [
       "         date          type  year  avg_price   size     nb_sold\n",
       "0  2015-12-27  conventional  2015       0.95  small  9626901.09\n",
       "1  2015-12-20  conventional  2015       0.98  small  8710021.76\n",
       "2  2015-12-13  conventional  2015       0.93  small  9855053.66\n",
       "3  2015-12-06  conventional  2015       0.89  small  9405464.36\n",
       "4  2015-11-29  conventional  2015       0.99  small  8094803.56"
      ]
     },
     "execution_count": 36,
     "metadata": {},
     "output_type": "execute_result"
    }
   ],
   "source": [
    "avocados = pd.read_csv(r'C:\\Users\\elesm\\OneDrive\\Documents\\avocado.csv', index_col=0)\n",
    "avocados.head()"
   ]
  },
  {
   "cell_type": "code",
   "execution_count": 37,
   "id": "3c510ad4-15ef-4aba-b44c-7b8e1b3e917b",
   "metadata": {},
   "outputs": [
    {
     "data": {
      "text/html": [
       "<div>\n",
       "<style scoped>\n",
       "    .dataframe tbody tr th:only-of-type {\n",
       "        vertical-align: middle;\n",
       "    }\n",
       "\n",
       "    .dataframe tbody tr th {\n",
       "        vertical-align: top;\n",
       "    }\n",
       "\n",
       "    .dataframe thead th {\n",
       "        text-align: right;\n",
       "    }\n",
       "</style>\n",
       "<table border=\"1\" class=\"dataframe\">\n",
       "  <thead>\n",
       "    <tr style=\"text-align: right;\">\n",
       "      <th></th>\n",
       "      <th>date</th>\n",
       "      <th>type</th>\n",
       "      <th>year</th>\n",
       "      <th>avg_price</th>\n",
       "      <th>size</th>\n",
       "      <th>nb_sold</th>\n",
       "    </tr>\n",
       "  </thead>\n",
       "  <tbody>\n",
       "    <tr>\n",
       "      <th>1009</th>\n",
       "      <td>2018-02-04</td>\n",
       "      <td>organic</td>\n",
       "      <td>2018</td>\n",
       "      <td>1.53</td>\n",
       "      <td>extra_large</td>\n",
       "      <td>1703.52</td>\n",
       "    </tr>\n",
       "    <tr>\n",
       "      <th>1010</th>\n",
       "      <td>2018-01-28</td>\n",
       "      <td>organic</td>\n",
       "      <td>2018</td>\n",
       "      <td>1.61</td>\n",
       "      <td>extra_large</td>\n",
       "      <td>1270.61</td>\n",
       "    </tr>\n",
       "    <tr>\n",
       "      <th>1011</th>\n",
       "      <td>2018-01-21</td>\n",
       "      <td>organic</td>\n",
       "      <td>2018</td>\n",
       "      <td>1.63</td>\n",
       "      <td>extra_large</td>\n",
       "      <td>1490.02</td>\n",
       "    </tr>\n",
       "    <tr>\n",
       "      <th>1012</th>\n",
       "      <td>2018-01-14</td>\n",
       "      <td>organic</td>\n",
       "      <td>2018</td>\n",
       "      <td>1.59</td>\n",
       "      <td>extra_large</td>\n",
       "      <td>1580.01</td>\n",
       "    </tr>\n",
       "    <tr>\n",
       "      <th>1013</th>\n",
       "      <td>2018-01-07</td>\n",
       "      <td>organic</td>\n",
       "      <td>2018</td>\n",
       "      <td>1.51</td>\n",
       "      <td>extra_large</td>\n",
       "      <td>1289.07</td>\n",
       "    </tr>\n",
       "  </tbody>\n",
       "</table>\n",
       "</div>"
      ],
      "text/plain": [
       "            date     type  year  avg_price         size  nb_sold\n",
       "1009  2018-02-04  organic  2018       1.53  extra_large  1703.52\n",
       "1010  2018-01-28  organic  2018       1.61  extra_large  1270.61\n",
       "1011  2018-01-21  organic  2018       1.63  extra_large  1490.02\n",
       "1012  2018-01-14  organic  2018       1.59  extra_large  1580.01\n",
       "1013  2018-01-07  organic  2018       1.51  extra_large  1289.07"
      ]
     },
     "execution_count": 37,
     "metadata": {},
     "output_type": "execute_result"
    }
   ],
   "source": [
    "avocados.tail()"
   ]
  },
  {
   "cell_type": "markdown",
   "id": "8fb75ff1-65ae-4863-bfcb-c0adbd93f9dd",
   "metadata": {},
   "source": [
    "## Total number sold for each avocado size group"
   ]
  },
  {
   "cell_type": "code",
   "execution_count": 38,
   "id": "6da6fadf-1077-4800-8d40-871c20058d8d",
   "metadata": {},
   "outputs": [
    {
     "data": {
      "image/png": "[encoded data removed]",
      "text/plain": [
       "<Figure size 432x288 with 1 Axes>"
      ]
     },
     "metadata": {
      "needs_background": "light"
     },
     "output_type": "display_data"
    }
   ],
   "source": [
    "nb_sold_by_size = avocados.groupby('size')['nb_sold'].sum()\n",
    "nb_sold_by_size.plot(kind='bar', x='size', y='nb_sold')\n",
    "\n",
    "plt.show()"
   ]
  },
  {
   "cell_type": "markdown",
   "id": "4afb644a-8976-4bf3-a147-5e69fd4e2a07",
   "metadata": {},
   "source": [
    "Bedazzling bar plot! It looks like small avocados were the most-purchased size, but large avocados were a close second.\n",
    "\n",
    "## Changes in sales over time\n",
    "\n",
    "visualizing the change in avocado sales over three years.\n",
    "\n",
    "Line plots are designed to visualize the relationship between two numeric variables, where each data values is connected to the next one. They are especially useful for visualizing change in a number over time, since each time point is naturally connected to the next time point.\n",
    "\n",
    "### the total number of avocados sold on each date"
   ]
  },
  {
   "cell_type": "code",
   "execution_count": 39,
   "id": "2cb5fde0-7a62-4b24-9ddc-bd920f978514",
   "metadata": {},
   "outputs": [
    {
     "data": {
      "text/plain": [
       "date\n",
       "2015-01-04    27279606.03\n",
       "2015-01-11    25081927.33\n",
       "2015-01-18    24961540.48\n",
       "2015-01-25    24094678.66\n",
       "2015-02-01    39838734.08\n",
       "Name: nb_sold, dtype: float64"
      ]
     },
     "execution_count": 39,
     "metadata": {},
     "output_type": "execute_result"
    }
   ],
   "source": [
    "nb_sold_by_date = avocados.groupby('date')['nb_sold'].sum()\n",
    "nb_sold_by_date.head()"
   ]
  },
  {
   "cell_type": "code",
   "execution_count": 40,
   "id": "ed19e2f2-89c0-4c3a-8e64-bb76ea016773",
   "metadata": {},
   "outputs": [
    {
     "data": {
      "image/png": "[encoded data removed]",
      "text/plain": [
       "<Figure size 432x288 with 1 Axes>"
      ]
     },
     "metadata": {
      "needs_background": "light"
     },
     "output_type": "display_data"
    }
   ],
   "source": [
    "nb_sold_by_date.plot(kind='line', x='date', y='nb_sold')\n",
    "plt.show()"
   ]
  },
  {
   "cell_type": "markdown",
   "id": "bacd6bcd-a469-4db4-8daa-7ab23cb1704f",
   "metadata": {},
   "source": [
    "Here, it looks like the number of avocados spikes around the same time each year.\n",
    "\n",
    "### Avocado supply and demand\n",
    "\n",
    "comparing the number of avocados sold to average price and see if they're at all related. If they're related, one number may be used to predict the other."
   ]
  },
  {
   "cell_type": "code",
   "execution_count": 41,
   "id": "dfc33f28-be06-41d9-a5d2-1fc031ef5ab7",
   "metadata": {},
   "outputs": [
    {
     "data": {
      "image/png": "[encoded data removed]",
      "text/plain": [
       "<Figure size 432x288 with 1 Axes>"
      ]
     },
     "metadata": {
      "needs_background": "light"
     },
     "output_type": "display_data"
    }
   ],
   "source": [
    "avocados.plot(kind='scatter', x='nb_sold', y='avg_price', title='Number of Avocados sold Vs. Average price')\n",
    "plt.show()"
   ]
  },
  {
   "cell_type": "markdown",
   "id": "6d0df8ac-6be9-4dc7-b67b-66561851f9c5",
   "metadata": {},
   "source": [
    "It looks like when more avocados are sold, prices go down. However, this doesn't mean that fewer sales causes higher prices - we can only tell that they're correlated with each other.\n",
    "\n",
    "## Price of conventional vs. organic avocados"
   ]
  },
  {
   "cell_type": "code",
   "execution_count": 42,
   "id": "17667faa-08f7-4513-a19f-1aef14ea149c",
   "metadata": {},
   "outputs": [
    {
     "data": {
      "image/png": "[encoded data removed]",
      "text/plain": [
       "<Figure size 432x288 with 1 Axes>"
      ]
     },
     "metadata": {
      "needs_background": "light"
     },
     "output_type": "display_data"
    }
   ],
   "source": [
    "avocados[avocados['type']=='conventional']['avg_price'].hist(bins=20, alpha=0.5)\n",
    "avocados[avocados['type']=='organic']['avg_price'].hist(bins=20, alpha=0.5)\n",
    "plt.legend(['conventional', 'organic'])\n",
    "plt.title='Price of Conventional vs. organic avocados'\n",
    "plt.show()"
   ]
  },
  {
   "cell_type": "markdown",
   "id": "6f45f2a8-7b1a-478c-a97b-9f1158513201",
   "metadata": {},
   "source": [
    "We can see that on average, organic avocados are more expensive than conventional ones, but their price distributions have some overlap.\n",
    "\n",
    "## Missing Values"
   ]
  },
  {
   "cell_type": "code",
   "execution_count": 43,
   "id": "5f38a3e3-b013-4482-babc-8140e2f7ec09",
   "metadata": {},
   "outputs": [
    {
     "data": {
      "text/html": [
       "<div>\n",
       "<style scoped>\n",
       "    .dataframe tbody tr th:only-of-type {\n",
       "        vertical-align: middle;\n",
       "    }\n",
       "\n",
       "    .dataframe tbody tr th {\n",
       "        vertical-align: top;\n",
       "    }\n",
       "\n",
       "    .dataframe thead th {\n",
       "        text-align: right;\n",
       "    }\n",
       "</style>\n",
       "<table border=\"1\" class=\"dataframe\">\n",
       "  <thead>\n",
       "    <tr style=\"text-align: right;\">\n",
       "      <th></th>\n",
       "      <th>Unnamed: 0</th>\n",
       "      <th>date</th>\n",
       "      <th>avg_price</th>\n",
       "      <th>total_sold</th>\n",
       "      <th>small_sold</th>\n",
       "      <th>large_sold</th>\n",
       "      <th>xl_sold</th>\n",
       "      <th>total_bags_sold</th>\n",
       "      <th>small_bags_sold</th>\n",
       "      <th>large_bags_sold</th>\n",
       "      <th>xl_bags_sold</th>\n",
       "    </tr>\n",
       "  </thead>\n",
       "  <tbody>\n",
       "    <tr>\n",
       "      <th>0</th>\n",
       "      <td>0</td>\n",
       "      <td>2016-12-25</td>\n",
       "      <td>1.00</td>\n",
       "      <td>30287853.70</td>\n",
       "      <td>9255125.20</td>\n",
       "      <td>10282925.61</td>\n",
       "      <td>541972.42</td>\n",
       "      <td>10207830.47</td>\n",
       "      <td>7709584.33</td>\n",
       "      <td>2417144.92</td>\n",
       "      <td>81101.22</td>\n",
       "    </tr>\n",
       "    <tr>\n",
       "      <th>1</th>\n",
       "      <td>1</td>\n",
       "      <td>2016-12-18</td>\n",
       "      <td>0.96</td>\n",
       "      <td>29583882.61</td>\n",
       "      <td>9394065.91</td>\n",
       "      <td>10339168.20</td>\n",
       "      <td>427872.42</td>\n",
       "      <td>9422776.08</td>\n",
       "      <td>6970320.34</td>\n",
       "      <td>2358443.96</td>\n",
       "      <td>94011.78</td>\n",
       "    </tr>\n",
       "    <tr>\n",
       "      <th>2</th>\n",
       "      <td>2</td>\n",
       "      <td>2016-12-11</td>\n",
       "      <td>0.98</td>\n",
       "      <td>30093540.70</td>\n",
       "      <td>9009996.11</td>\n",
       "      <td>NaN</td>\n",
       "      <td>403047.93</td>\n",
       "      <td>10713276.64</td>\n",
       "      <td>8149438.75</td>\n",
       "      <td>2490495.07</td>\n",
       "      <td>73342.82</td>\n",
       "    </tr>\n",
       "    <tr>\n",
       "      <th>3</th>\n",
       "      <td>3</td>\n",
       "      <td>2016-12-04</td>\n",
       "      <td>1.00</td>\n",
       "      <td>31621221.90</td>\n",
       "      <td>11043350.90</td>\n",
       "      <td>9908982.97</td>\n",
       "      <td>428009.84</td>\n",
       "      <td>10240878.19</td>\n",
       "      <td>7187022.58</td>\n",
       "      <td>2988504.98</td>\n",
       "      <td>65350.63</td>\n",
       "    </tr>\n",
       "    <tr>\n",
       "      <th>4</th>\n",
       "      <td>4</td>\n",
       "      <td>2016-11-27</td>\n",
       "      <td>1.21</td>\n",
       "      <td>22923062.65</td>\n",
       "      <td>7891487.94</td>\n",
       "      <td>7337341.77</td>\n",
       "      <td>NaN</td>\n",
       "      <td>7349757.04</td>\n",
       "      <td>5691266.56</td>\n",
       "      <td>1609867.20</td>\n",
       "      <td>48623.28</td>\n",
       "    </tr>\n",
       "  </tbody>\n",
       "</table>\n",
       "</div>"
      ],
      "text/plain": [
       "   Unnamed: 0        date  avg_price   total_sold   small_sold   large_sold  \\\n",
       "0           0  2016-12-25       1.00  30287853.70   9255125.20  10282925.61   \n",
       "1           1  2016-12-18       0.96  29583882.61   9394065.91  10339168.20   \n",
       "2           2  2016-12-11       0.98  30093540.70   9009996.11          NaN   \n",
       "3           3  2016-12-04       1.00  31621221.90  11043350.90   9908982.97   \n",
       "4           4  2016-11-27       1.21  22923062.65   7891487.94   7337341.77   \n",
       "\n",
       "     xl_sold  total_bags_sold  small_bags_sold  large_bags_sold  xl_bags_sold  \n",
       "0  541972.42      10207830.47       7709584.33       2417144.92      81101.22  \n",
       "1  427872.42       9422776.08       6970320.34       2358443.96      94011.78  \n",
       "2  403047.93      10713276.64       8149438.75       2490495.07      73342.82  \n",
       "3  428009.84      10240878.19       7187022.58       2988504.98      65350.63  \n",
       "4        NaN       7349757.04       5691266.56       1609867.20      48623.28  "
      ]
     },
     "execution_count": 43,
     "metadata": {},
     "output_type": "execute_result"
    }
   ],
   "source": [
    "avocados_2016=pd.read_csv(r'C:\\Users\\elesm\\OneDrive\\Documents\\avocados_2016.csv')\n",
    "avocados_2016.head()"
   ]
  },
  {
   "cell_type": "code",
   "execution_count": 44,
   "id": "7e0021fd-d09c-4d22-a085-d7f039f7d426",
   "metadata": {},
   "outputs": [
    {
     "data": {
      "text/html": [
       "<div>\n",
       "<style scoped>\n",
       "    .dataframe tbody tr th:only-of-type {\n",
       "        vertical-align: middle;\n",
       "    }\n",
       "\n",
       "    .dataframe tbody tr th {\n",
       "        vertical-align: top;\n",
       "    }\n",
       "\n",
       "    .dataframe thead th {\n",
       "        text-align: right;\n",
       "    }\n",
       "</style>\n",
       "<table border=\"1\" class=\"dataframe\">\n",
       "  <thead>\n",
       "    <tr style=\"text-align: right;\">\n",
       "      <th></th>\n",
       "      <th>Unnamed: 0</th>\n",
       "      <th>date</th>\n",
       "      <th>avg_price</th>\n",
       "      <th>total_sold</th>\n",
       "      <th>small_sold</th>\n",
       "      <th>large_sold</th>\n",
       "      <th>xl_sold</th>\n",
       "      <th>total_bags_sold</th>\n",
       "      <th>small_bags_sold</th>\n",
       "      <th>large_bags_sold</th>\n",
       "      <th>xl_bags_sold</th>\n",
       "    </tr>\n",
       "  </thead>\n",
       "  <tbody>\n",
       "    <tr>\n",
       "      <th>47</th>\n",
       "      <td>47</td>\n",
       "      <td>2016-01-31</td>\n",
       "      <td>0.93</td>\n",
       "      <td>34721249.92</td>\n",
       "      <td>11098088.49</td>\n",
       "      <td>13278053.61</td>\n",
       "      <td>1643703.17</td>\n",
       "      <td>8701404.65</td>\n",
       "      <td>6684515.27</td>\n",
       "      <td>1823889.58</td>\n",
       "      <td>192999.80</td>\n",
       "    </tr>\n",
       "    <tr>\n",
       "      <th>48</th>\n",
       "      <td>48</td>\n",
       "      <td>2016-01-24</td>\n",
       "      <td>0.95</td>\n",
       "      <td>32787079.21</td>\n",
       "      <td>7020459.00</td>\n",
       "      <td>14054367.50</td>\n",
       "      <td>1440380.36</td>\n",
       "      <td>10271872.35</td>\n",
       "      <td>7438489.60</td>\n",
       "      <td>2668368.01</td>\n",
       "      <td>165014.74</td>\n",
       "    </tr>\n",
       "    <tr>\n",
       "      <th>49</th>\n",
       "      <td>49</td>\n",
       "      <td>2016-01-17</td>\n",
       "      <td>0.94</td>\n",
       "      <td>34426341.87</td>\n",
       "      <td>10036597.84</td>\n",
       "      <td>13832256.04</td>\n",
       "      <td>1419405.62</td>\n",
       "      <td>9138082.37</td>\n",
       "      <td>6846324.06</td>\n",
       "      <td>2228420.91</td>\n",
       "      <td>63337.40</td>\n",
       "    </tr>\n",
       "    <tr>\n",
       "      <th>50</th>\n",
       "      <td>50</td>\n",
       "      <td>2016-01-10</td>\n",
       "      <td>0.93</td>\n",
       "      <td>35264336.01</td>\n",
       "      <td>NaN</td>\n",
       "      <td>13226088.66</td>\n",
       "      <td>1282612.91</td>\n",
       "      <td>9314347.55</td>\n",
       "      <td>6735384.32</td>\n",
       "      <td>2528089.14</td>\n",
       "      <td>50874.09</td>\n",
       "    </tr>\n",
       "    <tr>\n",
       "      <th>51</th>\n",
       "      <td>51</td>\n",
       "      <td>2016-01-03</td>\n",
       "      <td>0.86</td>\n",
       "      <td>38142088.04</td>\n",
       "      <td>NaN</td>\n",
       "      <td>16054083.86</td>\n",
       "      <td>1560068.62</td>\n",
       "      <td>8911429.39</td>\n",
       "      <td>6464895.83</td>\n",
       "      <td>2287449.76</td>\n",
       "      <td>159083.80</td>\n",
       "    </tr>\n",
       "  </tbody>\n",
       "</table>\n",
       "</div>"
      ],
      "text/plain": [
       "    Unnamed: 0        date  avg_price   total_sold   small_sold   large_sold  \\\n",
       "47          47  2016-01-31       0.93  34721249.92  11098088.49  13278053.61   \n",
       "48          48  2016-01-24       0.95  32787079.21   7020459.00  14054367.50   \n",
       "49          49  2016-01-17       0.94  34426341.87  10036597.84  13832256.04   \n",
       "50          50  2016-01-10       0.93  35264336.01          NaN  13226088.66   \n",
       "51          51  2016-01-03       0.86  38142088.04          NaN  16054083.86   \n",
       "\n",
       "       xl_sold  total_bags_sold  small_bags_sold  large_bags_sold  \\\n",
       "47  1643703.17       8701404.65       6684515.27       1823889.58   \n",
       "48  1440380.36      10271872.35       7438489.60       2668368.01   \n",
       "49  1419405.62       9138082.37       6846324.06       2228420.91   \n",
       "50  1282612.91       9314347.55       6735384.32       2528089.14   \n",
       "51  1560068.62       8911429.39       6464895.83       2287449.76   \n",
       "\n",
       "    xl_bags_sold  \n",
       "47     192999.80  \n",
       "48     165014.74  \n",
       "49      63337.40  \n",
       "50      50874.09  \n",
       "51     159083.80  "
      ]
     },
     "execution_count": 44,
     "metadata": {},
     "output_type": "execute_result"
    }
   ],
   "source": [
    "avocados_2016.tail()"
   ]
  },
  {
   "cell_type": "code",
   "execution_count": 45,
   "id": "265a81e5-5c4b-42ee-be73-0762d134b4b1",
   "metadata": {},
   "outputs": [
    {
     "data": {
      "text/plain": [
       "Unnamed: 0         False\n",
       "date               False\n",
       "avg_price          False\n",
       "total_sold         False\n",
       "small_sold          True\n",
       "large_sold          True\n",
       "xl_sold             True\n",
       "total_bags_sold    False\n",
       "small_bags_sold    False\n",
       "large_bags_sold    False\n",
       "xl_bags_sold       False\n",
       "dtype: bool"
      ]
     },
     "execution_count": 45,
     "metadata": {},
     "output_type": "execute_result"
    }
   ],
   "source": [
    "avocados_2016.isna().any()"
   ]
  },
  {
   "cell_type": "code",
   "execution_count": 46,
   "id": "88cd73ec-c869-4785-bde0-120050f8403a",
   "metadata": {},
   "outputs": [
    {
     "data": {
      "image/png": "[encoded data removed]",
      "text/plain": [
       "<Figure size 432x288 with 1 Axes>"
      ]
     },
     "metadata": {
      "needs_background": "light"
     },
     "output_type": "display_data"
    }
   ],
   "source": [
    "avocados_2016.isna().sum().plot(kind='bar')\n",
    "plt.show()"
   ]
  },
  {
   "cell_type": "markdown",
   "id": "8e0bd363-52b4-45d0-81f7-01d9caddc8cb",
   "metadata": {},
   "source": [
    "It looks like there are missing values in the small_sold, large_sold, and xl_sold columns.\n",
    "\n",
    "## Removing missing values\n",
    "\n",
    "every row containing missing values will be deleted"
   ]
  },
  {
   "cell_type": "code",
   "execution_count": 47,
   "id": "bd630fe8-396e-42fa-946e-9259434ee548",
   "metadata": {},
   "outputs": [
    {
     "data": {
      "text/plain": [
       "Unnamed: 0         False\n",
       "date               False\n",
       "avg_price          False\n",
       "total_sold         False\n",
       "small_sold         False\n",
       "large_sold         False\n",
       "xl_sold            False\n",
       "total_bags_sold    False\n",
       "small_bags_sold    False\n",
       "large_bags_sold    False\n",
       "xl_bags_sold       False\n",
       "dtype: bool"
      ]
     },
     "execution_count": 47,
     "metadata": {},
     "output_type": "execute_result"
    }
   ],
   "source": [
    "avocados_complete = avocados_2016.dropna()\n",
    "avocados_complete.isna().any()"
   ]
  },
  {
   "cell_type": "code",
   "execution_count": 48,
   "id": "dafb4fb6-9e37-478f-a08e-1fcb63450db8",
   "metadata": {},
   "outputs": [
    {
     "data": {
      "image/png": "[encoded data removed]",
      "text/plain": [
       "<Figure size 432x288 with 4 Axes>"
      ]
     },
     "metadata": {
      "needs_background": "light"
     },
     "output_type": "display_data"
    }
   ],
   "source": [
    "avocados_2016[[\"small_sold\", \"large_sold\", \"xl_sold\"]].hist()\n",
    "plt.show()"
   ]
  },
  {
   "cell_type": "code",
   "execution_count": null,
   "id": "d620b119-65d1-456e-b992-144b47dc1e7f",
   "metadata": {},
   "outputs": [],
   "source": []
  }
 ],
 "metadata": {
  "kernelspec": {
   "display_name": "Python 3",
   "language": "python",
   "name": "python3"
  },
  "language_info": {
   "codemirror_mode": {
    "name": "ipython",
    "version": 3
   },
   "file_extension": ".py",
   "mimetype": "text/x-python",
   "name": "python",
   "nbconvert_exporter": "python",
   "pygments_lexer": "ipython3",
   "version": "3.8.8"
  }
 },
 "nbformat": 4,
 "nbformat_minor": 5
}
